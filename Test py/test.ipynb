{
 "cells": [
  {
   "cell_type": "code",
   "execution_count": 1,
   "metadata": {},
   "outputs": [
    {
     "name": "stdout",
     "output_type": "stream",
     "text": [
      "Collecting gTTS\n",
      "  Downloading gTTS-2.5.4-py3-none-any.whl.metadata (4.1 kB)\n",
      "Requirement already satisfied: requests<3,>=2.27 in c:\\users\\user\\appdata\\local\\programs\\python\\python37\\lib\\site-packages (from gTTS) (2.28.1)\n",
      "Requirement already satisfied: click<8.2,>=7.1 in c:\\users\\user\\appdata\\local\\programs\\python\\python37\\lib\\site-packages (from gTTS) (8.1.7)\n",
      "Requirement already satisfied: colorama in c:\\users\\user\\appdata\\local\\programs\\python\\python37\\lib\\site-packages (from click<8.2,>=7.1->gTTS) (0.4.6)\n",
      "Requirement already satisfied: importlib-metadata in c:\\users\\user\\appdata\\local\\programs\\python\\python37\\lib\\site-packages (from click<8.2,>=7.1->gTTS) (6.7.0)\n",
      "Requirement already satisfied: charset-normalizer<3,>=2 in c:\\users\\user\\appdata\\local\\programs\\python\\python37\\lib\\site-packages (from requests<3,>=2.27->gTTS) (2.1.1)\n",
      "Requirement already satisfied: idna<4,>=2.5 in c:\\users\\user\\appdata\\local\\programs\\python\\python37\\lib\\site-packages (from requests<3,>=2.27->gTTS) (3.8)\n",
      "Requirement already satisfied: urllib3<1.27,>=1.21.1 in c:\\users\\user\\appdata\\local\\programs\\python\\python37\\lib\\site-packages (from requests<3,>=2.27->gTTS) (1.26.13)\n",
      "Requirement already satisfied: certifi>=2017.4.17 in c:\\users\\user\\appdata\\local\\programs\\python\\python37\\lib\\site-packages (from requests<3,>=2.27->gTTS) (2022.12.7)\n",
      "Requirement already satisfied: zipp>=0.5 in c:\\users\\user\\appdata\\local\\programs\\python\\python37\\lib\\site-packages (from importlib-metadata->click<8.2,>=7.1->gTTS) (3.15.0)\n",
      "Requirement already satisfied: typing-extensions>=3.6.4 in c:\\users\\user\\appdata\\local\\programs\\python\\python37\\lib\\site-packages (from importlib-metadata->click<8.2,>=7.1->gTTS) (4.7.1)\n",
      "Downloading gTTS-2.5.4-py3-none-any.whl (29 kB)\n",
      "Installing collected packages: gTTS\n",
      "Successfully installed gTTS-2.5.4\n",
      "Note: you may need to restart the kernel to use updated packages.\n"
     ]
    }
   ],
   "source": [
    "pip install gTTS"
   ]
  },
  {
   "cell_type": "code",
   "execution_count": 1,
   "metadata": {},
   "outputs": [
    {
     "name": "stdout",
     "output_type": "stream",
     "text": [
      "Audio file saved as sample_audio.mp3.\n"
     ]
    }
   ],
   "source": [
    "from gtts import gTTS\n",
    "import os\n",
    "\n",
    "# Text to read aloud\n",
    "text = \"The quick brown fox jumps over the lazy dog.\"\n",
    "\n",
    "# Generate audio\n",
    "tts = gTTS(text, lang='en')\n",
    "audio_file = \"sample_audio.mp3\"\n",
    "tts.save(audio_file)\n",
    "\n",
    "print(f\"Audio file saved as {audio_file}.\")\n"
   ]
  },
  {
   "cell_type": "code",
   "execution_count": 2,
   "metadata": {},
   "outputs": [
    {
     "name": "stdout",
     "output_type": "stream",
     "text": [
      "Audio files generated and saved in respective folders.\n"
     ]
    }
   ],
   "source": [
    "import os\n",
    "import random\n",
    "from gtts import gTTS\n",
    "\n",
    "# Define 5 simple sentences\n",
    "sentences = [\n",
    "    \"The cat is sleeping on the mat.\",\n",
    "    \"I like to play with my friends.\",\n",
    "    \"We went to the park after school.\",\n",
    "    \"The bird is singing a beautiful song.\",\n",
    "    \"My favorite color is blue.\"\n",
    "]\n",
    "\n",
    "# Function to introduce errors into a sentence\n",
    "def introduce_errors(sentence):\n",
    "    words = sentence.split()\n",
    "    if len(words) > 2:\n",
    "        # Randomly replace, remove, or duplicate a word\n",
    "        choice = random.choice([\"replace\", \"remove\", \"duplicate\"])\n",
    "        index = random.randint(0, len(words) - 1)\n",
    "        if choice == \"replace\":\n",
    "            words[index] = \"###\"  # Replace a word with incorrect characters\n",
    "        elif choice == \"remove\":\n",
    "            words.pop(index)  # Remove a word\n",
    "        elif choice == \"duplicate\":\n",
    "            words.insert(index, words[index])  # Duplicate a word\n",
    "    return \" \".join(words)\n",
    "\n",
    "# Generate students and their reading patterns\n",
    "students = []\n",
    "students += [(5, \"all_incorrect\")] * 10\n",
    "students += [(4, \"mostly_incorrect\")] * 12\n",
    "students += [(3, \"somewhat_incorrect\")] * 15\n",
    "students += [(2, \"half_incorrect\")] * 60\n",
    "students += [(1, \"mostly_correct\")] * 50\n",
    "students += [(0, \"all_correct\")] * 103\n",
    "\n",
    "# Shuffle students for randomness\n",
    "random.shuffle(students)\n",
    "\n",
    "# Function to generate audio files for a student\n",
    "def generate_audio_for_student(student_id, num_incorrect):\n",
    "    folder_name = f\"STD{str(student_id).zfill(3)}\"\n",
    "    os.makedirs(folder_name, exist_ok=True)\n",
    "    \n",
    "    incorrect_indices = random.sample(range(5), num_incorrect)\n",
    "    \n",
    "    for i, sentence in enumerate(sentences):\n",
    "        question_number = f\"Q{i+1}\"\n",
    "        file_name = os.path.join(folder_name, f\"{question_number}.wav\")\n",
    "        \n",
    "        if i in incorrect_indices:\n",
    "            incorrect_sentence = introduce_errors(sentence)\n",
    "            tts = gTTS(incorrect_sentence, lang='en')\n",
    "            tts.save(file_name.replace(\".wav\", \"Inco.wav\"))\n",
    "        else:\n",
    "            tts = gTTS(sentence, lang='en')\n",
    "            tts.save(file_name)\n",
    "\n",
    "# Generate audio for all students\n",
    "for student_id, (num_incorrect, _) in enumerate(students, start=1):\n",
    "    generate_audio_for_student(student_id, num_incorrect)\n",
    "\n",
    "print(\"Audio files generated and saved in respective folders.\")\n"
   ]
  },
  {
   "cell_type": "code",
   "execution_count": 1,
   "metadata": {},
   "outputs": [
    {
     "name": "stdout",
     "output_type": "stream",
     "text": [
      "Audio files generated and saved in the New_Recordings folder.\n"
     ]
    }
   ],
   "source": [
    "import os\n",
    "import random\n",
    "from gtts import gTTS\n",
    "from pydub import AudioSegment  # Make sure to import AudioSegment\n",
    "\n",
    "# Define 5 simple sentences\n",
    "sentences = [\n",
    "    \"The cat is sleeping on the mat.\",\n",
    "    \"I like to play with my friends.\",\n",
    "    \"We went to the park after school.\",\n",
    "    \"The bird is singing a beautiful song.\",\n",
    "    \"My favorite color is blue.\"\n",
    "]\n",
    "\n",
    "# Function to introduce errors into a sentence\n",
    "def introduce_errors(sentence):\n",
    "    words = sentence.split()\n",
    "    if len(words) > 2:\n",
    "        # Randomly replace, remove, or duplicate a word\n",
    "        choice = random.choice([\"replace\", \"remove\", \"duplicate\"])\n",
    "        index = random.randint(0, len(words) - 1)\n",
    "        if choice == \"replace\":\n",
    "            words[index] = \"###\"  # Replace a word with incorrect characters\n",
    "        elif choice == \"remove\":\n",
    "            words.pop(index)  # Remove a word\n",
    "        elif choice == \"duplicate\":\n",
    "            words.insert(index, words[index])  # Duplicate a word\n",
    "    return \" \".join(words)\n",
    "\n",
    "# Generate students and their reading patterns\n",
    "students = []\n",
    "students += [(5, \"all_incorrect\")] * 10\n",
    "students += [(4, \"mostly_incorrect\")] * 12\n",
    "students += [(3, \"somewhat_incorrect\")] * 15\n",
    "students += [(2, \"half_incorrect\")] * 60\n",
    "students += [(1, \"mostly_correct\")] * 50\n",
    "students += [(0, \"all_correct\")] * 153\n",
    "\n",
    "# Shuffle students for randomness\n",
    "random.shuffle(students)\n",
    "\n",
    "# Function to generate audio files for a student\n",
    "def generate_audio_for_student(student_id, num_incorrect):\n",
    "    folder_name = \"New_Recordings\"\n",
    "    os.makedirs(folder_name, exist_ok=True)\n",
    "    \n",
    "    incorrect_indices = random.sample(range(5), num_incorrect)\n",
    "    \n",
    "    # Initialize a list to store the audio segments\n",
    "    full_audio = []\n",
    "    \n",
    "    for i, sentence in enumerate(sentences):\n",
    "        question_number = f\"Q{i+1}\"\n",
    "        file_name = os.path.join(folder_name, f\"STD_{str(student_id).zfill(3)}_{num_incorrect}_Q{i+1}.mp3\")\n",
    "        \n",
    "        if i in incorrect_indices:\n",
    "            incorrect_sentence = introduce_errors(sentence)\n",
    "            tts = gTTS(incorrect_sentence, lang='en')\n",
    "            tts.save(file_name.replace(\".mp3\", \"Inco.mp3\"))\n",
    "            full_audio.append(file_name.replace(\".mp3\", \"Inco.mp3\"))\n",
    "        else:\n",
    "            tts = gTTS(sentence, lang='en')\n",
    "            tts.save(file_name)\n",
    "            full_audio.append(file_name)\n",
    "\n",
    "    # Combine the audio segments into one file\n",
    "    combined_audio = AudioSegment.empty()\n",
    "    for audio_file in full_audio:\n",
    "        segment = AudioSegment.from_mp3(audio_file)\n",
    "        combined_audio += segment\n",
    "    \n",
    "    # Save the combined audio\n",
    "    combined_audio.export(os.path.join(folder_name, f\"STD_{str(student_id).zfill(3)}_{num_incorrect}.mp3\"), format=\"mp3\")\n",
    "\n",
    "# Generate audio for all students\n",
    "for student_id, (num_incorrect, _) in enumerate(students, start=1):\n",
    "    generate_audio_for_student(student_id, num_incorrect)\n",
    "\n",
    "print(\"Audio files generated and saved in the New_Recordings folder.\")\n"
   ]
  }
 ],
 "metadata": {
  "kernelspec": {
   "display_name": "Python 3",
   "language": "python",
   "name": "python3"
  },
  "language_info": {
   "codemirror_mode": {
    "name": "ipython",
    "version": 3
   },
   "file_extension": ".py",
   "mimetype": "text/x-python",
   "name": "python",
   "nbconvert_exporter": "python",
   "pygments_lexer": "ipython3",
   "version": "3.7.3"
  }
 },
 "nbformat": 4,
 "nbformat_minor": 2
}
